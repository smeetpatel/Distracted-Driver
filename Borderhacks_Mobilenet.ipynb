{
  "nbformat": 4,
  "nbformat_minor": 0,
  "metadata": {
    "accelerator": "GPU",
    "colab": {
      "name": "Borderhacks_Mobilenet.ipynb",
      "provenance": [],
      "collapsed_sections": [],
      "toc_visible": true
    },
    "kernelspec": {
      "display_name": "Python 3",
      "language": "python",
      "name": "python3"
    },
    "language_info": {
      "codemirror_mode": {
        "name": "ipython",
        "version": 3
      },
      "file_extension": ".py",
      "mimetype": "text/x-python",
      "name": "python",
      "nbconvert_exporter": "python",
      "pygments_lexer": "ipython3",
      "version": "3.7.3"
    }
  },
  "cells": [
    {
      "cell_type": "code",
      "metadata": {
        "id": "zVLTLzqtptvn",
        "outputId": "2390c090-b6a2-43e2-db74-ac2a0d2d93e9",
        "colab": {
          "base_uri": "https://localhost:8080/",
          "height": 34
        }
      },
      "source": [
        "from google.colab import drive\n",
        "drive.mount('/content/drive')"
      ],
      "execution_count": null,
      "outputs": [
        {
          "output_type": "stream",
          "text": [
            "Mounted at /content/drive\n"
          ],
          "name": "stdout"
        }
      ]
    },
    {
      "cell_type": "code",
      "metadata": {
        "id": "ohSex1ALqXgq"
      },
      "source": [
        "!unzip -q \"/content/drive/My Drive/State farm/Big_dataset.zip\""
      ],
      "execution_count": null,
      "outputs": []
    },
    {
      "cell_type": "code",
      "metadata": {
        "id": "ma-i1BIh415a",
        "outputId": "c6f13725-75ac-49b1-89bb-6c10c8b6373f",
        "colab": {
          "base_uri": "https://localhost:8080/",
          "height": 268
        }
      },
      "source": [
        "!pip install -U keras\n",
        "!pip install httplib2==0.17.0\n",
        "!pip install -U -q PyDrive"
      ],
      "execution_count": null,
      "outputs": [
        {
          "output_type": "stream",
          "text": [
            "Requirement already up-to-date: keras in /usr/local/lib/python3.6/dist-packages (2.4.3)\n",
            "Requirement already satisfied, skipping upgrade: numpy>=1.9.1 in /usr/local/lib/python3.6/dist-packages (from keras) (1.18.5)\n",
            "Requirement already satisfied, skipping upgrade: h5py in /usr/local/lib/python3.6/dist-packages (from keras) (2.10.0)\n",
            "Requirement already satisfied, skipping upgrade: pyyaml in /usr/local/lib/python3.6/dist-packages (from keras) (3.13)\n",
            "Requirement already satisfied, skipping upgrade: scipy>=0.14 in /usr/local/lib/python3.6/dist-packages (from keras) (1.4.1)\n",
            "Requirement already satisfied, skipping upgrade: six in /usr/local/lib/python3.6/dist-packages (from h5py->keras) (1.15.0)\n",
            "Collecting httplib2==0.17.0\n",
            "\u001b[?25l  Downloading https://files.pythonhosted.org/packages/8e/4b/025a7338bb2d4a2c61f0e530b79aafc29d112ed8e61333a6dd9ba48f3bab/httplib2-0.17.0-py3-none-any.whl (95kB)\n",
            "\u001b[K     |████████████████████████████████| 102kB 3.1MB/s \n",
            "\u001b[?25hInstalling collected packages: httplib2\n",
            "  Found existing installation: httplib2 0.17.4\n",
            "    Uninstalling httplib2-0.17.4:\n",
            "      Successfully uninstalled httplib2-0.17.4\n",
            "Successfully installed httplib2-0.17.0\n"
          ],
          "name": "stdout"
        }
      ]
    },
    {
      "cell_type": "code",
      "metadata": {
        "ExecuteTime": {
          "end_time": "2020-01-11T22:10:09.547181Z",
          "start_time": "2020-01-11T22:10:04.038113Z"
        },
        "id": "QiVfJUenoDAf",
        "outputId": "a82b3bcf-a739-4568-aa0d-36ac668fb035",
        "colab": {
          "base_uri": "https://localhost:8080/",
          "height": 52
        }
      },
      "source": [
        "from keras import applications\n",
        "from keras.preprocessing.image import ImageDataGenerator\n",
        "from keras import optimizers,layers,models\n",
        "from keras.models import Sequential, Model \n",
        "from keras.layers import Dropout, Flatten, Dense\n",
        "from keras import backend as k \n",
        "from keras.callbacks import ModelCheckpoint\n",
        "from keras.optimizers import Adam, SGD, RMSprop\n",
        "import numpy as np\n",
        "import sklearn\n",
        "import seaborn as sns\n",
        "from sklearn.metrics import confusion_matrix\n",
        "import pandas as pd\n",
        "import matplotlib.pyplot as plt\n",
        "%matplotlib inline"
      ],
      "execution_count": null,
      "outputs": [
        {
          "output_type": "stream",
          "text": [
            "/usr/local/lib/python3.6/dist-packages/statsmodels/tools/_testing.py:19: FutureWarning: pandas.util.testing is deprecated. Use the functions in the public API at pandas.testing instead.\n",
            "  import pandas.util.testing as tm\n"
          ],
          "name": "stderr"
        }
      ]
    },
    {
      "cell_type": "code",
      "metadata": {
        "id": "TI3cdmsbbX-8"
      },
      "source": [
        "from pydrive.auth import GoogleAuth\n",
        "from pydrive.drive import GoogleDrive \n",
        "from google.colab import auth \n",
        "from oauth2client.client import GoogleCredentials\n",
        "\n",
        "auth.authenticate_user()\n",
        "gauth = GoogleAuth()\n",
        "gauth.credentials = GoogleCredentials.get_application_default()                       \n",
        "drive = GoogleDrive(gauth)"
      ],
      "execution_count": null,
      "outputs": []
    },
    {
      "cell_type": "code",
      "metadata": {
        "ExecuteTime": {
          "end_time": "2019-11-09T05:21:52.818965Z",
          "start_time": "2019-11-09T05:21:51.228014Z"
        },
        "id": "C4zV8VLHoDBF",
        "outputId": "7734abe1-475f-416b-aa42-4d0bb33bb010",
        "colab": {
          "base_uri": "https://localhost:8080/",
          "height": 1000
        }
      },
      "source": [
        "img_width, img_height = 224, 224\n",
        "train_data_dir = \"/content/Big_dataset/train\"\n",
        "validation_data_dir = \"/content/Big_dataset/validation\"\n",
        "test_data_dir = '/content/Big_dataset/test'\n",
        "batch_size = 100\n",
        "\n",
        "#Initializing weights with Imagenet weights\n",
        "vgg_conv = applications.MobileNet(weights = \"imagenet\", include_top=False, input_shape = (img_width, img_height, 3))\n",
        "\n",
        "#freezing the layers except last 6 layers\n",
        "for layer in vgg_conv.layers[:-13]:\n",
        "    layer.trainable = False\n",
        "    \n",
        "for layer in vgg_conv.layers:\n",
        "    print(layer.name,layer.trainable)\n",
        "    \n",
        "# Create the model\n",
        "model = models.Sequential()\n",
        " \n",
        "# Add the vgg convolutional base model\n",
        "model.add(vgg_conv)\n",
        " \n",
        "# Add new layers\n",
        "model.add(layers.Flatten())\n",
        "model.add(layers.Dense(1024, activation='relu'))\n",
        "model.add(layers.Dropout(0.5))\n",
        "model.add(layers.Dense(10, activation='softmax'))\n",
        " \n",
        "# Show a summary of the model. Check the number of trainable parameters\n",
        "model.summary()"
      ],
      "execution_count": null,
      "outputs": [
        {
          "output_type": "stream",
          "text": [
            "Downloading data from https://storage.googleapis.com/tensorflow/keras-applications/mobilenet/mobilenet_1_0_224_tf_no_top.h5\n",
            "17227776/17225924 [==============================] - 0s 0us/step\n",
            "input_1 False\n",
            "conv1_pad False\n",
            "conv1 False\n",
            "conv1_bn False\n",
            "conv1_relu False\n",
            "conv_dw_1 False\n",
            "conv_dw_1_bn False\n",
            "conv_dw_1_relu False\n",
            "conv_pw_1 False\n",
            "conv_pw_1_bn False\n",
            "conv_pw_1_relu False\n",
            "conv_pad_2 False\n",
            "conv_dw_2 False\n",
            "conv_dw_2_bn False\n",
            "conv_dw_2_relu False\n",
            "conv_pw_2 False\n",
            "conv_pw_2_bn False\n",
            "conv_pw_2_relu False\n",
            "conv_dw_3 False\n",
            "conv_dw_3_bn False\n",
            "conv_dw_3_relu False\n",
            "conv_pw_3 False\n",
            "conv_pw_3_bn False\n",
            "conv_pw_3_relu False\n",
            "conv_pad_4 False\n",
            "conv_dw_4 False\n",
            "conv_dw_4_bn False\n",
            "conv_dw_4_relu False\n",
            "conv_pw_4 False\n",
            "conv_pw_4_bn False\n",
            "conv_pw_4_relu False\n",
            "conv_dw_5 False\n",
            "conv_dw_5_bn False\n",
            "conv_dw_5_relu False\n",
            "conv_pw_5 False\n",
            "conv_pw_5_bn False\n",
            "conv_pw_5_relu False\n",
            "conv_pad_6 False\n",
            "conv_dw_6 False\n",
            "conv_dw_6_bn False\n",
            "conv_dw_6_relu False\n",
            "conv_pw_6 False\n",
            "conv_pw_6_bn False\n",
            "conv_pw_6_relu False\n",
            "conv_dw_7 False\n",
            "conv_dw_7_bn False\n",
            "conv_dw_7_relu False\n",
            "conv_pw_7 False\n",
            "conv_pw_7_bn False\n",
            "conv_pw_7_relu False\n",
            "conv_dw_8 False\n",
            "conv_dw_8_bn False\n",
            "conv_dw_8_relu False\n",
            "conv_pw_8 False\n",
            "conv_pw_8_bn False\n",
            "conv_pw_8_relu False\n",
            "conv_dw_9 False\n",
            "conv_dw_9_bn False\n",
            "conv_dw_9_relu False\n",
            "conv_pw_9 False\n",
            "conv_pw_9_bn False\n",
            "conv_pw_9_relu False\n",
            "conv_dw_10 False\n",
            "conv_dw_10_bn False\n",
            "conv_dw_10_relu False\n",
            "conv_pw_10 False\n",
            "conv_pw_10_bn False\n",
            "conv_pw_10_relu False\n",
            "conv_dw_11 False\n",
            "conv_dw_11_bn False\n",
            "conv_dw_11_relu False\n",
            "conv_pw_11 False\n",
            "conv_pw_11_bn False\n",
            "conv_pw_11_relu False\n",
            "conv_pad_12 True\n",
            "conv_dw_12 True\n",
            "conv_dw_12_bn True\n",
            "conv_dw_12_relu True\n",
            "conv_pw_12 True\n",
            "conv_pw_12_bn True\n",
            "conv_pw_12_relu True\n",
            "conv_dw_13 True\n",
            "conv_dw_13_bn True\n",
            "conv_dw_13_relu True\n",
            "conv_pw_13 True\n",
            "conv_pw_13_bn True\n",
            "conv_pw_13_relu True\n",
            "Model: \"sequential\"\n",
            "_________________________________________________________________\n",
            "Layer (type)                 Output Shape              Param #   \n",
            "=================================================================\n",
            "mobilenet_1.00_224 (Function (None, 7, 7, 1024)        3228864   \n",
            "_________________________________________________________________\n",
            "flatten (Flatten)            (None, 50176)             0         \n",
            "_________________________________________________________________\n",
            "dense (Dense)                (None, 1024)              51381248  \n",
            "_________________________________________________________________\n",
            "dropout (Dropout)            (None, 1024)              0         \n",
            "_________________________________________________________________\n",
            "dense_1 (Dense)              (None, 10)                10250     \n",
            "=================================================================\n",
            "Total params: 54,620,362\n",
            "Trainable params: 52,985,354\n",
            "Non-trainable params: 1,635,008\n",
            "_________________________________________________________________\n"
          ],
          "name": "stdout"
        }
      ]
    },
    {
      "cell_type": "code",
      "metadata": {
        "id": "mHKRXrcZDgQd",
        "outputId": "18e39de3-a547-4064-8cd7-cdb1758fe42c",
        "colab": {
          "base_uri": "https://localhost:8080/",
          "height": 52
        }
      },
      "source": [
        "train_datagen = ImageDataGenerator()\n",
        "test_datagen = ImageDataGenerator()\n",
        "\n",
        "train_batch_size = 128\n",
        "valid_batch_size = 32\n",
        "\n",
        "train_generator = train_datagen.flow_from_directory(directory=train_data_dir,\n",
        "                  target_size = (img_height, img_width),\n",
        "                  batch_size = train_batch_size, \n",
        "                  class_mode = \"categorical\",\n",
        "                  shuffle=True)\n",
        "\n",
        "validation_generator = test_datagen.flow_from_directory(validation_data_dir,\n",
        "                       target_size = (img_height, img_width),\n",
        "                       batch_size = valid_batch_size,\n",
        "                       class_mode = \"categorical\",\n",
        "                       shuffle=True)\n",
        "\n",
        "opt = Adam(lr=0.0001)\n",
        "model.compile(loss = \"categorical_crossentropy\", optimizer = opt, metrics=[\"accuracy\"])"
      ],
      "execution_count": null,
      "outputs": [
        {
          "output_type": "stream",
          "text": [
            "Found 16000 images belonging to 10 classes.\n",
            "Found 3911 images belonging to 10 classes.\n"
          ],
          "name": "stdout"
        }
      ]
    },
    {
      "cell_type": "markdown",
      "metadata": {
        "id": "G2J7VrdebNrd"
      },
      "source": [
        "# **ADAM**"
      ]
    },
    {
      "cell_type": "code",
      "metadata": {
        "id": "2U48LDa_Yale",
        "outputId": "8ba871dc-4cd4-4661-8385-8830927da779",
        "colab": {
          "base_uri": "https://localhost:8080/",
          "height": 547
        }
      },
      "source": [
        "#checkpoint will save the best weights\n",
        "checkpoint = ModelCheckpoint(\"model_weights_ADAM.h5\", monitor='val_acc', verbose=1, save_best_only=True, mode='max')\n",
        "callbacks_list = [checkpoint]\n",
        "\n",
        "history_Adam = model.fit_generator(\n",
        "      train_generator,\n",
        "      steps_per_epoch=train_generator.samples/train_generator.batch_size ,\n",
        "      epochs=10,\n",
        "      validation_data=validation_generator,\n",
        "      validation_steps=validation_generator.samples/validation_generator.batch_size,\n",
        "      verbose=1,\n",
        "      callbacks = callbacks_list\n",
        "      )\n",
        "\n",
        "#save the model\n",
        "model_json = model.to_json()\n",
        "with open(\"model.json\", \"w\") as json_file:\n",
        "    json_file.write(model_json)"
      ],
      "execution_count": null,
      "outputs": [
        {
          "output_type": "stream",
          "text": [
            "Epoch 1/10\n",
            "125/125 [==============================] - ETA: 0s - loss: 0.7487 - accuracy: 0.7976WARNING:tensorflow:Can save best model only with val_acc available, skipping.\n",
            "125/125 [==============================] - 117s 937ms/step - loss: 0.7487 - accuracy: 0.7976 - val_loss: 0.4538 - val_accuracy: 0.8394\n",
            "Epoch 2/10\n",
            "125/125 [==============================] - ETA: 0s - loss: 0.0671 - accuracy: 0.9793WARNING:tensorflow:Can save best model only with val_acc available, skipping.\n",
            "125/125 [==============================] - 116s 925ms/step - loss: 0.0671 - accuracy: 0.9793 - val_loss: 0.0763 - val_accuracy: 0.9762\n",
            "Epoch 3/10\n",
            "125/125 [==============================] - ETA: 0s - loss: 0.0225 - accuracy: 0.9938WARNING:tensorflow:Can save best model only with val_acc available, skipping.\n",
            "125/125 [==============================] - 116s 929ms/step - loss: 0.0225 - accuracy: 0.9938 - val_loss: 0.0519 - val_accuracy: 0.9841\n",
            "Epoch 4/10\n",
            "125/125 [==============================] - ETA: 0s - loss: 0.0152 - accuracy: 0.9961WARNING:tensorflow:Can save best model only with val_acc available, skipping.\n",
            "125/125 [==============================] - 116s 928ms/step - loss: 0.0152 - accuracy: 0.9961 - val_loss: 0.0444 - val_accuracy: 0.9877\n",
            "Epoch 5/10\n",
            "125/125 [==============================] - ETA: 0s - loss: 0.0133 - accuracy: 0.9965WARNING:tensorflow:Can save best model only with val_acc available, skipping.\n",
            "125/125 [==============================] - 116s 925ms/step - loss: 0.0133 - accuracy: 0.9965 - val_loss: 0.0423 - val_accuracy: 0.9859\n",
            "Epoch 6/10\n",
            "125/125 [==============================] - ETA: 0s - loss: 0.0115 - accuracy: 0.9969WARNING:tensorflow:Can save best model only with val_acc available, skipping.\n",
            "125/125 [==============================] - 116s 926ms/step - loss: 0.0115 - accuracy: 0.9969 - val_loss: 0.0439 - val_accuracy: 0.9880\n",
            "Epoch 7/10\n",
            "125/125 [==============================] - ETA: 0s - loss: 0.0079 - accuracy: 0.9977WARNING:tensorflow:Can save best model only with val_acc available, skipping.\n",
            "125/125 [==============================] - 116s 925ms/step - loss: 0.0079 - accuracy: 0.9977 - val_loss: 0.0384 - val_accuracy: 0.9885\n",
            "Epoch 8/10\n",
            "125/125 [==============================] - ETA: 0s - loss: 0.0074 - accuracy: 0.9977WARNING:tensorflow:Can save best model only with val_acc available, skipping.\n",
            "125/125 [==============================] - 116s 925ms/step - loss: 0.0074 - accuracy: 0.9977 - val_loss: 0.0554 - val_accuracy: 0.9859\n",
            "Epoch 9/10\n",
            "125/125 [==============================] - ETA: 0s - loss: 0.0110 - accuracy: 0.9962WARNING:tensorflow:Can save best model only with val_acc available, skipping.\n",
            "125/125 [==============================] - 116s 927ms/step - loss: 0.0110 - accuracy: 0.9962 - val_loss: 0.0505 - val_accuracy: 0.9859\n",
            "Epoch 10/10\n",
            "125/125 [==============================] - ETA: 0s - loss: 0.0144 - accuracy: 0.9949WARNING:tensorflow:Can save best model only with val_acc available, skipping.\n",
            "125/125 [==============================] - 115s 923ms/step - loss: 0.0144 - accuracy: 0.9949 - val_loss: 0.0555 - val_accuracy: 0.9854\n"
          ],
          "name": "stdout"
        }
      ]
    },
    {
      "cell_type": "code",
      "metadata": {
        "id": "pRTPNnEJgXYD"
      },
      "source": [
        "model.save('model_weights_ADAM.h5')\n",
        "# model_file = drive.CreateFile({'title' : 'model_Adam.h5'})                       \n",
        "# model_file.SetContentFile('model_Adam.h5')                       \n",
        "# model_file.Upload()"
      ],
      "execution_count": null,
      "outputs": []
    },
    {
      "cell_type": "code",
      "metadata": {
        "id": "ehJlw7cz2LEH",
        "outputId": "30b09a1f-892f-4ed0-9924-51692a9406b3",
        "colab": {
          "base_uri": "https://localhost:8080/",
          "height": 34
        }
      },
      "source": [
        "#Load Weights\n",
        "# model.load_weights(\"/content/drive/My Drive/model_Adam.h5\")\n",
        "\n",
        "predict_datagen = ImageDataGenerator()\n",
        "test_generator = predict_datagen.flow_from_directory(test_data_dir,\n",
        "                 target_size=(img_height, img_width),\n",
        "                 color_mode=\"rgb\",\n",
        "                 batch_size=32,\n",
        "                 class_mode=None,\n",
        "                 shuffle=False\n",
        "                 )"
      ],
      "execution_count": null,
      "outputs": [
        {
          "output_type": "stream",
          "text": [
            "Found 2000 images belonging to 1 classes.\n"
          ],
          "name": "stdout"
        }
      ]
    },
    {
      "cell_type": "code",
      "metadata": {
        "id": "NyO2_lZxOb0S",
        "outputId": "53a789c8-30ef-4e2a-be80-c949b2f6c9d2",
        "colab": {
          "base_uri": "https://localhost:8080/",
          "height": 34
        }
      },
      "source": [
        "#Generate Predictions on Test Data\n",
        "test_generator.reset()\n",
        "pred = model.predict_generator(test_generator,verbose=1)\n",
        "predicted_class_indices=np.argmax(pred,axis=1)\n",
        "\n",
        "labels = (train_generator.class_indices)\n",
        "labels = dict((v,k) for k,v in labels.items())\n",
        "predictions = [labels[k] for k in predicted_class_indices]\n",
        "\n",
        "filenames=test_generator.filenames\n",
        "processed_filenames = []\n",
        "for files in filenames:\n",
        "  processed_filenames.append(files.split('/')[1].split('(')[0].strip(' '))\n",
        "\n",
        "y_actu = pd.Series(processed_filenames, name='Actual')\n",
        "y_pred = pd.Series(predictions, name='Predicted')"
      ],
      "execution_count": null,
      "outputs": [
        {
          "output_type": "stream",
          "text": [
            "63/63 [==============================] - 10s 163ms/step\n"
          ],
          "name": "stdout"
        }
      ]
    },
    {
      "cell_type": "code",
      "metadata": {
        "id": "Tb--pzKdoPi_",
        "outputId": "f8f61ded-dcb8-4296-a409-2e33dc63c54f",
        "colab": {
          "base_uri": "https://localhost:8080/",
          "height": 323
        }
      },
      "source": [
        "from sklearn.metrics import classification_report\n",
        "print('Classification report for ADAM optimizer')\n",
        "print(classification_report(y_actu, y_pred))"
      ],
      "execution_count": null,
      "outputs": [
        {
          "output_type": "stream",
          "text": [
            "Classification report for ADAM optimizer\n",
            "              precision    recall  f1-score   support\n",
            "\n",
            "          c0       1.00      1.00      1.00       195\n",
            "          c1       1.00      1.00      1.00       185\n",
            "          c2       1.00      1.00      1.00       160\n",
            "          c3       1.00      1.00      1.00       240\n",
            "          c4       1.00      1.00      1.00       170\n",
            "          c5       1.00      1.00      1.00       220\n",
            "          c6       1.00      1.00      1.00       230\n",
            "          c7       1.00      1.00      1.00       165\n",
            "          c8       1.00      1.00      1.00       240\n",
            "          c9       1.00      1.00      1.00       195\n",
            "\n",
            "    accuracy                           1.00      2000\n",
            "   macro avg       1.00      1.00      1.00      2000\n",
            "weighted avg       1.00      1.00      1.00      2000\n",
            "\n"
          ],
          "name": "stdout"
        }
      ]
    },
    {
      "cell_type": "code",
      "metadata": {
        "id": "ArseTRs6WaEv",
        "outputId": "5a595927-641f-408d-a590-f3e78fb06183",
        "colab": {
          "base_uri": "https://localhost:8080/",
          "height": 513
        }
      },
      "source": [
        "conf_matrixx = sklearn.metrics.confusion_matrix(y_actu,y_pred)\n",
        "plt.figure(figsize=(15,8))\n",
        "sns.heatmap(conf_matrixx, \n",
        "            annot=True,\n",
        "            xticklabels=['c0 ', 'c1 ', 'c2 ', 'c3 ', 'c4 ', 'c5 ', 'c6 ', 'c7 ', 'c8 ','c9 '], \n",
        "            yticklabels=['c0 ', 'c1 ', 'c2 ', 'c3 ', 'c4 ', 'c5 ', 'c6 ', 'c7 ', 'c8 ','c9 '],\n",
        "            cmap=\"Blues\",\n",
        "           fmt='g')\n",
        "plt.ylabel('Predicted')\n",
        "plt.xlabel('Actual')\n",
        "plt.title('Confusion matrix for Distracted Driving Behaviour')\n",
        "plt.show()"
      ],
      "execution_count": null,
      "outputs": [
        {
          "output_type": "display_data",
          "data": {
            "image/png": "[encoded data removed]",
            "text/plain": [
              "<Figure size 1080x576 with 2 Axes>"
            ]
          },
          "metadata": {
            "tags": [],
            "needs_background": "light"
          }
        }
      ]
    },
    {
      "cell_type": "code",
      "metadata": {
        "id": "Xhpt_FQE26GU"
      },
      "source": [
        "import matplotlib.pyplot as plt\n",
        "\n",
        "plt.figure(figsize=(20,10))\n",
        "plt.subplot(1, 2, 1)\n",
        "plt.suptitle('Optimizer : Adam', fontsize=10)\n",
        "plt.ylabel('Loss', fontsize=16)\n",
        "plt.plot(history_Adam.history['loss'], label='Training Loss')\n",
        "plt.plot(history_Adam.history['val_loss'], label='Validation Loss')\n",
        "plt.legend(loc='upper right')\n",
        "\n",
        "plt.subplot(1, 2, 2)\n",
        "plt.ylabel('Accuracy', fontsize=16)\n",
        "plt.plot(history_Adam.history['accuracy'], label='Training Accuracy')\n",
        "plt.plot(history_Adam.history['val_accuracy'], label='Validation Accuracy')\n",
        "plt.legend(loc='lower right')\n",
        "plt.show()"
      ],
      "execution_count": null,
      "outputs": []
    },
    {
      "cell_type": "code",
      "metadata": {
        "id": "Ps-dDrh5Yzdg",
        "outputId": "2c78e838-8108-44f9-d272-2d322f3323b0",
        "colab": {
          "base_uri": "https://localhost:8080/",
          "height": 663
        }
      },
      "source": [
        "import matplotlib.pyplot as plt\n",
        "\n",
        "plt.figure(figsize=(20,10))\n",
        "plt.subplot(1, 2, 1)\n",
        "plt.suptitle('Optimizer : Adam', fontsize=10)\n",
        "plt.ylabel('Loss', fontsize=16)\n",
        "plt.plot(history_RMS.history['loss'], label='Training Loss')\n",
        "plt.plot(history_RMS.history['val_loss'], label='Validation Loss')\n",
        "plt.legend(loc='upper right')\n",
        "\n",
        "plt.subplot(1, 2, 2)\n",
        "plt.ylabel('Accuracy', fontsize=16)\n",
        "plt.plot(history_RMS.history['accuracy'], label='Training Accuracy')\n",
        "plt.plot(history_RMS.history['val_accuracy'], label='Validation Accuracy')\n",
        "plt.legend(loc='lower right')\n",
        "plt.show()"
      ],
      "execution_count": null,
      "outputs": [
        {
          "output_type": "display_data",
          "data": {
            "image/png": "[encoded data removed]",
            "text/plain": [
              "<Figure size 1440x720 with 2 Axes>"
            ]
          },
          "metadata": {
            "tags": [],
            "needs_background": "light"
          }
        }
      ]
    }
  ]
}